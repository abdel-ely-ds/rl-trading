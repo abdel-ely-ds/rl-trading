{
 "cells": [
  {
   "cell_type": "code",
   "execution_count": 1,
   "id": "fa474cab-b711-4684-860c-019a6051d9de",
   "metadata": {},
   "outputs": [],
   "source": [
    "import gym\n",
    "import matplotlib.pyplot as plt\n",
    "from IPython.display import clear_output\n",
    "import time \n",
    "\n",
    "def plot_environment(env, figsize=(5,4)):\n",
    "    plt.figure(figsize=figsize)\n",
    "    img = env.render()\n",
    "    plt.imshow(img)\n",
    "    plt.axis(\"off\")\n",
    "    plt.show()"
   ]
  },
  {
   "cell_type": "code",
   "execution_count": 2,
   "id": "b4863428-1094-4a6d-b8ae-ccbb074b5493",
   "metadata": {},
   "outputs": [],
   "source": [
    "env = gym.make(\"CartPole-v1\", render_mode=\"rgb_array\")\n",
    "observation, info = env.reset(seed=42)"
   ]
  },
  {
   "cell_type": "code",
   "execution_count": 3,
   "id": "798ac655-76ef-48e8-9ff4-de177a87a26d",
   "metadata": {},
   "outputs": [
    {
     "ename": "KeyboardInterrupt",
     "evalue": "",
     "output_type": "error",
     "traceback": [
      "\u001b[0;31m---------------------------------------------------------------------------\u001b[0m",
      "\u001b[0;31mKeyboardInterrupt\u001b[0m                         Traceback (most recent call last)",
      "\u001b[0;32m/tmp/ipykernel_6781/1328970851.py\u001b[0m in \u001b[0;36m<module>\u001b[0;34m\u001b[0m\n\u001b[1;32m      9\u001b[0m \u001b[0;34m\u001b[0m\u001b[0m\n\u001b[1;32m     10\u001b[0m     \u001b[0mclear_output\u001b[0m\u001b[0;34m(\u001b[0m\u001b[0mwait\u001b[0m\u001b[0;34m=\u001b[0m\u001b[0;32mTrue\u001b[0m\u001b[0;34m)\u001b[0m\u001b[0;34m\u001b[0m\u001b[0;34m\u001b[0m\u001b[0m\n\u001b[0;32m---> 11\u001b[0;31m     \u001b[0mtime\u001b[0m\u001b[0;34m.\u001b[0m\u001b[0msleep\u001b[0m\u001b[0;34m(\u001b[0m\u001b[0;36m1\u001b[0m\u001b[0;34m)\u001b[0m\u001b[0;34m\u001b[0m\u001b[0;34m\u001b[0m\u001b[0m\n\u001b[0m\u001b[1;32m     12\u001b[0m \u001b[0menv\u001b[0m\u001b[0;34m.\u001b[0m\u001b[0mclose\u001b[0m\u001b[0;34m(\u001b[0m\u001b[0;34m)\u001b[0m\u001b[0;34m\u001b[0m\u001b[0;34m\u001b[0m\u001b[0m\n",
      "\u001b[0;31mKeyboardInterrupt\u001b[0m: "
     ]
    }
   ],
   "source": [
    "for _ in range(1000):\n",
    "    action = env.action_space.sample()\n",
    "\n",
    "    plot_environment(env)\n",
    "    observation, reward, terminated, truncated, info = env.step(action)\n",
    "\n",
    "    if terminated or truncated:\n",
    "        observation, info = env.reset()\n",
    "    \n",
    "    clear_output(wait=True)\n",
    "    time.sleep(1)\n",
    "env.close()"
   ]
  },
  {
   "cell_type": "code",
   "execution_count": 1,
   "id": "05929481-87c0-43b3-9cb7-68f7ee81e535",
   "metadata": {},
   "outputs": [],
   "source": [
    "import numpy as np"
   ]
  },
  {
   "cell_type": "code",
   "execution_count": 2,
   "id": "23c3af50-6a58-4f61-be5d-00bec70f26b9",
   "metadata": {},
   "outputs": [
    {
     "data": {
      "text/plain": [
       "array([3, 1])"
      ]
     },
     "execution_count": 2,
     "metadata": {},
     "output_type": "execute_result"
    }
   ],
   "source": [
    "np.array([3, 1])"
   ]
  },
  {
   "cell_type": "code",
   "execution_count": null,
   "id": "6846a95f-081c-46df-9fbf-fbfea816a903",
   "metadata": {},
   "outputs": [],
   "source": [
    "from gym import spaces\n",
    "\n",
    "HEIGHT = 500\n",
    "WIDTH = 800\n",
    "CHANNELS = 3\n",
    "\n",
    "\n",
    "class CustomEnv(gym.Env):\n",
    "    metadata = {'render.modes': ['human']}\n",
    "    \n",
    "    def __init__(self, df):\n",
    "        super(CustomEnv, self).__init__()\n",
    "        \n",
    "        self.df = df\n",
    "        \n",
    "        # -1 sell, 0 hold, 1 buy\n",
    "        self.action_space = self.action_space = spaces.Box(\n",
    "            low=np.array([-1, 0]), high=np.array([1, 1]), dtype=np.float16)\n",
    "        \n",
    "        # shot of the candles\n",
    "        self.observation_space = spaces.Box(low=0, high=255, shape=\n",
    "                        (HEIGHT, WIDTH, CHANNELS), dtype=np.uint8)\n",
    "\n",
    "    def _next_observation(self):\n",
    "        pass\n",
    "    \n",
    "    def step(self, action):\n",
    "        pass\n",
    "    \n",
    "    def reset(self,\n",
    "              capital = 10_000,\n",
    "              commissions = 0.0,\n",
    "              risk: 0.01\n",
    "              ):\n",
    "        \n",
    "        self.capital = capital\n",
    "        self.commissions = commissions\n",
    "        self.risk = risk\n",
    "        self.pnl = 0.0\n",
    "        self.current_step = 0 # later would be randome\n",
    "\n",
    "        return self._next_observation()\n",
    "        \n",
    "    def render(self, mode='human', close=False):\n",
    "        "
   ]
  }
 ],
 "metadata": {
  "kernelspec": {
   "display_name": "Python 3 (ipykernel)",
   "language": "python",
   "name": "python3"
  },
  "language_info": {
   "codemirror_mode": {
    "name": "ipython",
    "version": 3
   },
   "file_extension": ".py",
   "mimetype": "text/x-python",
   "name": "python",
   "nbconvert_exporter": "python",
   "pygments_lexer": "ipython3",
   "version": "3.8.10"
  }
 },
 "nbformat": 4,
 "nbformat_minor": 5
}
